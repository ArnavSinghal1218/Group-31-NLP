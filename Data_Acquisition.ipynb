{
  "nbformat": 4,
  "nbformat_minor": 0,
  "metadata": {
    "colab": {
      "provenance": []
    },
    "kernelspec": {
      "name": "python3",
      "display_name": "Python 3"
    },
    "language_info": {
      "name": "python"
    }
  },
  "cells": [
    {
      "cell_type": "code",
      "execution_count": null,
      "metadata": {
        "colab": {
          "base_uri": "https://localhost:8080/"
        },
        "id": "OMwYUG7Yyzb_",
        "outputId": "154bff41-284d-4e6f-99b8-186cecdb1a02"
      },
      "outputs": [
        {
          "output_type": "stream",
          "name": "stdout",
          "text": [
            "Articles saved to: intelligence_articles.csv\n"
          ]
        }
      ],
      "source": [
        "import csv\n",
        "from pymed import PubMed\n",
        "\n",
        "# Initialize PubMed object\n",
        "pubmed = PubMed(tool=\"MyTool\", email=\"abc@email.com\")\n",
        "\n",
        "# Query article abstracts\n",
        "results = pubmed.query(\"2013:2023[intelligence]\")\n",
        "\n",
        "# Define CSV file name\n",
        "csv_file = \"pubmed_articles_first_9999.csv\"\n",
        "\n",
        "# Write articles to CSV file\n",
        "with open(csv_file, mode='w', newline='', encoding='utf-8') as file:\n",
        "    writer = csv.writer(file)\n",
        "    writer.writerow([\"PMID\", \"Title\", \"Abstract\", \"Publication Year\"])  # Write header row\n",
        "    for article in results:\n",
        "        # Extract information from the article\n",
        "        pmid = article.pubmed_id\n",
        "        title = article.title\n",
        "        abstract = article.abstract\n",
        "        publication_year = article.publication_date.year if article.publication_date else None\n",
        "\n",
        "        # Write article information to CSV file\n",
        "        writer.writerow([pmid, title, abstract, publication_year])\n",
        "\n",
        "print(\"Articles saved to:\", csv_file)"
      ]
    }
  ]
}