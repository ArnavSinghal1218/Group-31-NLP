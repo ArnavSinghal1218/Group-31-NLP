{
  "nbformat": 4,
  "nbformat_minor": 0,
  "metadata": {
    "colab": {
      "provenance": []
    },
    "kernelspec": {
      "name": "python3",
      "display_name": "Python 3"
    },
    "language_info": {
      "name": "python"
    }
  },
  "cells": [
    {
      "cell_type": "code",
      "source": [
        "import requests\n",
        "from xml.etree import ElementTree\n",
        "\n",
        "import pandas as pd\n",
        "\n",
        "import torch\n",
        "import torch.nn as nn\n",
        "import torch.optim as optim\n",
        "\n",
        "from torchtext.datasets import UDPOS\n",
        "\n",
        "import numpy as np\n",
        "\n",
        "import time\n",
        "import random\n",
        "from torchtext.vocab import build_vocab_from_iterator\n",
        "from torch.utils.data import Dataset, DataLoader"
      ],
      "metadata": {
        "id": "OYFLxdJ979TZ"
      },
      "execution_count": 4,
      "outputs": []
    },
    {
      "cell_type": "code",
      "source": [
        "# Initialize the dataset\n",
        "pub_med = []\n",
        "num_articles = 10000\n",
        "\n",
        "# Use ESearch to get PMIDs\n",
        "esearch_url = \"https://eutils.ncbi.nlm.nih.gov/entrez/eutils/esearch.fcgi\"\n",
        "search_params = {\n",
        "    'db': 'pubmed',\n",
        "    'term': 'intelligence[Abstract] AND (\"2013/01/01\"[Date - Publication] : \"2023/12/31\"[Date - Publication])',\n",
        "    'retmax': num_articles, # is by default 20\n",
        "    'retmode': 'json',\n",
        "\n",
        "}\n",
        "\n",
        "# send request to eSearch, and process response\n",
        "search_response = requests.get(esearch_url, params=search_params)\n",
        "search_data = search_response.json()['esearchresult']\n",
        "pmids = search_response.json()['esearchresult']['idlist'] # pmid are the identifyers of the different articles\n"
      ],
      "metadata": {
        "id": "tzA4Ea2G4rjF"
      },
      "execution_count": 11,
      "outputs": []
    },
    {
      "cell_type": "code",
      "source": [
        "# how many articles with \"intelligence in the abstract\n",
        "total_count = search_data['count']  # Fetch the total count\n",
        "print(f\"Total number of articles with 'intelligence' in the abstract published between 2013 to 2023: {total_count}\")\n",
        "print(pmids[0:10])"
      ],
      "metadata": {
        "colab": {
          "base_uri": "https://localhost:8080/"
        },
        "id": "TwLOFwirmHIc",
        "outputId": "2e7b76f9-c06f-46bc-d8dd-76666e3cac9e"
      },
      "execution_count": 19,
      "outputs": [
        {
          "output_type": "stream",
          "name": "stdout",
          "text": [
            "Total number of articles with 'intelligence' in the abstract published between 2013 to 2023: 196486\n",
            "['38193887', '38193037', '38193015', '38193004', '38192969', '38192845', '38192839', '38192792', '38192785', '38192775']\n"
          ]
        }
      ]
    },
    {
      "cell_type": "code",
      "source": [
        "# eSearch is to find identifiers, eFetch is to find the abstracts\n",
        "efetch_url = \"https://eutils.ncbi.nlm.nih.gov/entrez/eutils/efetch.fcgi\"\n",
        "\n",
        "# Process in batches due to API limits\n",
        "for i in range(0, len(pmids), 100):\n",
        "    batch_pmids = pmids[i:i+100]\n",
        "    fetch_params = {\n",
        "        'db': 'pubmed',\n",
        "        'id': ','.join(batch_pmids),\n",
        "        'retmode': 'xml'\n",
        "    }\n",
        "\n",
        "    fetch_response = requests.get(efetch_url, params=fetch_params)\n",
        "\n",
        "    if fetch_response.status_code == 200:\n",
        "        root = ElementTree.fromstring(fetch_response.content)\n",
        "        for article in root.findall(\".//PubmedArticle\"):\n",
        "            article_title = article.find(\".//ArticleTitle\").text\n",
        "            abstract_text = article.find(\".//Abstract/AbstractText\").text if article.find(\".//Abstract/AbstractText\") is not None else \"No abstract available\"\n",
        "            pub_date = article.find(\".//PubDate/Year\").text if article.find(\".//PubDate/Year\") is not None else \"No publication year\"\n",
        "            pub_med.append({'Title': article_title, 'Abstract': abstract_text, 'Publication Year': pub_date})\n",
        "\n",
        "# Convert to DataFrame\n",
        "pub_med_df = pd.DataFrame(pub_med)"
      ],
      "metadata": {
        "id": "vOh21js58LvI"
      },
      "execution_count": 22,
      "outputs": []
    },
    {
      "cell_type": "code",
      "source": [
        "# Display the first few rows of the DataFrame\n",
        "print(pub_med_df.head())\n",
        "print(f\"Total articles in the dataset: {len(pub_med_df)}\")"
      ],
      "metadata": {
        "id": "3HCVqPa-6i6n",
        "colab": {
          "base_uri": "https://localhost:8080/"
        },
        "outputId": "5c246d6a-9a9b-4c8c-994b-648b55fb53ed"
      },
      "execution_count": 23,
      "outputs": [
        {
          "output_type": "stream",
          "name": "stdout",
          "text": [
            "                                               Title  \\\n",
            "0  Using machine learning in the prediction of sy...   \n",
            "1  Assessing the impact of transfusion thresholds...   \n",
            "2  Mutual mate guarding with limited sexual confl...   \n",
            "3  Effect of neoadjuvant endocrine therapy on the...   \n",
            "4  Revolutionizing Breast Healthcare: Harnessing ...   \n",
            "\n",
            "                                            Abstract Publication Year  \n",
            "0  Venous thromboembolism (VTE) is a major cause ...             2023  \n",
            "1  Sepsis is a severe condition that often leads ...             2023  \n",
            "2  Mate guarding is typically considered a male s...             2024  \n",
            "3  Neoadjuvant endocrine therapy (NET) of prostat...             2023  \n",
            "4  Breast cancer has the highest incidence and se...             2023  \n",
            "Total articles in the dataset: 9998\n"
          ]
        }
      ]
    },
    {
      "cell_type": "markdown",
      "source": [
        "## Data processing"
      ],
      "metadata": {
        "id": "UBNIlO5cVLSV"
      }
    },
    {
      "cell_type": "markdown",
      "source": [
        "##Pipeline:\n",
        "Promt goes into UI (streamlit?), which has a search function which interacts with ElasticSearch, which then gives relevant results, which are then displayed in the UI"
      ],
      "metadata": {
        "id": "T9eFca7YFdvS"
      }
    },
    {
      "cell_type": "code",
      "source": [
        "# !pip install -U sentence-transformers"
      ],
      "metadata": {
        "id": "3uwkB6xsnbd3"
      },
      "execution_count": null,
      "outputs": []
    },
    {
      "cell_type": "code",
      "source": [
        "# ! pip install transformers"
      ],
      "metadata": {
        "id": "Iheoq2Rdqv6B"
      },
      "execution_count": null,
      "outputs": []
    },
    {
      "cell_type": "code",
      "source": [
        "# ! pip install elasticsearch"
      ],
      "metadata": {
        "id": "Z0ImjDhKssxR"
      },
      "execution_count": 30,
      "outputs": []
    },
    {
      "cell_type": "code",
      "source": [
        "# ! pip install opensearch"
      ],
      "metadata": {
        "id": "0O4atbWasztk"
      },
      "execution_count": 31,
      "outputs": []
    },
    {
      "cell_type": "code",
      "source": [
        "# !pip install python-dotenv"
      ],
      "metadata": {
        "id": "QOU7y0u1ya2C"
      },
      "execution_count": 32,
      "outputs": []
    },
    {
      "cell_type": "code",
      "source": [
        "# Want to access elastic search from notebook:\n",
        "from elasticsearch import Elasticsearch"
      ],
      "metadata": {
        "id": "t_M_iKhzGPAP"
      },
      "execution_count": 34,
      "outputs": []
    },
    {
      "cell_type": "code",
      "source": [
        "es = Elasticsearch(\n",
        "\n",
        ")"
      ],
      "metadata": {
        "id": "IC9T57wIy-sR",
        "colab": {
          "base_uri": "https://localhost:8080/",
          "height": 419
        },
        "outputId": "bbd83b87-54bd-43d9-ef96-baef7f665aa4"
      },
      "execution_count": 35,
      "outputs": [
        {
          "output_type": "error",
          "ename": "ValueError",
          "evalue": "Either 'hosts' or 'cloud_id' must be specified",
          "traceback": [
            "\u001b[0;31m---------------------------------------------------------------------------\u001b[0m",
            "\u001b[0;31mValueError\u001b[0m                                Traceback (most recent call last)",
            "\u001b[0;32m<ipython-input-35-fadf7c66ccc0>\u001b[0m in \u001b[0;36m<cell line: 1>\u001b[0;34m()\u001b[0m\n\u001b[0;32m----> 1\u001b[0;31m es = Elasticsearch(\n\u001b[0m\u001b[1;32m      2\u001b[0m \u001b[0;34m\u001b[0m\u001b[0m\n\u001b[1;32m      3\u001b[0m )\n",
            "\u001b[0;32m/usr/local/lib/python3.10/dist-packages/elasticsearch/_sync/client/__init__.py\u001b[0m in \u001b[0;36m__init__\u001b[0;34m(self, hosts, cloud_id, api_key, basic_auth, bearer_auth, opaque_id, headers, connections_per_node, http_compress, verify_certs, ca_certs, client_cert, client_key, ssl_assert_hostname, ssl_assert_fingerprint, ssl_version, ssl_context, ssl_show_warn, transport_class, request_timeout, node_class, node_pool_class, randomize_nodes_in_pool, node_selector_class, dead_node_backoff_factor, max_dead_node_backoff, serializer, serializers, default_mimetype, max_retries, retry_on_status, retry_on_timeout, sniff_on_start, sniff_before_requests, sniff_on_node_failure, sniff_timeout, min_delay_between_sniffing, sniffed_node_callback, meta_header, timeout, randomize_hosts, host_info_callback, sniffer_timeout, sniff_on_connection_fail, http_auth, maxsize, _transport)\u001b[0m\n\u001b[1;32m    192\u001b[0m     ) -> None:\n\u001b[1;32m    193\u001b[0m         \u001b[0;32mif\u001b[0m \u001b[0mhosts\u001b[0m \u001b[0;32mis\u001b[0m \u001b[0;32mNone\u001b[0m \u001b[0;32mand\u001b[0m \u001b[0mcloud_id\u001b[0m \u001b[0;32mis\u001b[0m \u001b[0;32mNone\u001b[0m \u001b[0;32mand\u001b[0m \u001b[0m_transport\u001b[0m \u001b[0;32mis\u001b[0m \u001b[0;32mNone\u001b[0m\u001b[0;34m:\u001b[0m\u001b[0;34m\u001b[0m\u001b[0;34m\u001b[0m\u001b[0m\n\u001b[0;32m--> 194\u001b[0;31m             \u001b[0;32mraise\u001b[0m \u001b[0mValueError\u001b[0m\u001b[0;34m(\u001b[0m\u001b[0;34m\"Either 'hosts' or 'cloud_id' must be specified\"\u001b[0m\u001b[0;34m)\u001b[0m\u001b[0;34m\u001b[0m\u001b[0;34m\u001b[0m\u001b[0m\n\u001b[0m\u001b[1;32m    195\u001b[0m \u001b[0;34m\u001b[0m\u001b[0m\n\u001b[1;32m    196\u001b[0m         \u001b[0;32mif\u001b[0m \u001b[0mtimeout\u001b[0m \u001b[0;32mis\u001b[0m \u001b[0;32mnot\u001b[0m \u001b[0mDEFAULT\u001b[0m\u001b[0;34m:\u001b[0m\u001b[0;34m\u001b[0m\u001b[0;34m\u001b[0m\u001b[0m\n",
            "\u001b[0;31mValueError\u001b[0m: Either 'hosts' or 'cloud_id' must be specified"
          ]
        }
      ]
    },
    {
      "cell_type": "markdown",
      "source": [
        "Get data from Pub_Med, process it in pandas -> Then convert into vectors (using BERT?), not convert everything, just abstract -> insert everything into elasticSearch to process queries. Make UI in streamlit?\n",
        "\n",
        "Write a search function in streamlit UI,\n",
        "So for a key word or prompt, it goes into streamlit UI, into search function which talks to elasticsearch, which gives relevant results and shows them in the UI.\n"
      ],
      "metadata": {
        "id": "ZPcf1WviMnY7"
      }
    },
    {
      "cell_type": "code",
      "source": [],
      "metadata": {
        "id": "d3yt3Jr8Mw71"
      },
      "execution_count": null,
      "outputs": []
    }
  ]
}